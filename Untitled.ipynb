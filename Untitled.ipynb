{
 "cells": [
  {
   "cell_type": "code",
   "execution_count": 1,
   "id": "0eb95f8c",
   "metadata": {},
   "outputs": [],
   "source": [
    "import pandas as pd\n",
    "import numpy as np\n",
    "import seaborn as sns\n",
    "from datetime import datetime, timedelta\n",
    "import matplotlib.pyplot as plt\n",
    "from scipy.stats import norm\n",
    "import statistics"
   ]
  },
  {
   "cell_type": "code",
   "execution_count": 2,
   "id": "f9bd2645",
   "metadata": {},
   "outputs": [],
   "source": [
    "df= pd.read_csv('scraped_tweets.csv')"
   ]
  },
  {
   "cell_type": "code",
   "execution_count": 3,
   "id": "3f6d8dd7",
   "metadata": {},
   "outputs": [
    {
     "name": "stdout",
     "output_type": "stream",
     "text": [
      "<class 'pandas.core.frame.DataFrame'>\n",
      "RangeIndex: 2948 entries, 0 to 2947\n",
      "Data columns (total 7 columns):\n",
      " #   Column           Non-Null Count  Dtype  \n",
      "---  ------           --------------  -----  \n",
      " 0   Unnamed: 0       2948 non-null   int64  \n",
      " 1   username         2948 non-null   object \n",
      " 2   hashtag          2948 non-null   object \n",
      " 3   first tweet      2948 non-null   object \n",
      " 4   last tweet       2948 non-null   object \n",
      " 5   difference       2948 non-null   float64\n",
      " 6   Diff in seconds  2948 non-null   float64\n",
      "dtypes: float64(2), int64(1), object(4)\n",
      "memory usage: 161.3+ KB\n"
     ]
    }
   ],
   "source": [
    "df['difference'] = df['difference'].apply(lambda x: pd.to_timedelta(x).total_seconds())\n",
    "df.info()"
   ]
  },
  {
   "cell_type": "code",
   "execution_count": 13,
   "id": "21f61084",
   "metadata": {},
   "outputs": [
    {
     "data": {
      "text/plain": [
       "(645421.6465400271, 2438496.2826936725, 0.0, 0.0, 98026.5)"
      ]
     },
     "execution_count": 13,
     "metadata": {},
     "output_type": "execute_result"
    }
   ],
   "source": [
    "s= df[\"difference\"]\n",
    "df_mean = np.mean(df[\"difference\"])\n",
    "df_std = np.std(df[\"difference\"])\n",
    "median, q1, q3 = np.percentile(s, 50), np.percentile(s, 25), np.percentile(s, 75)\n",
    "IQR = q3 - q1\n",
    "df_mean, df_std, median,q1,q3"
   ]
  },
  {
   "cell_type": "markdown",
   "id": "119a410b",
   "metadata": {},
   "source": []
  },
  {
   "cell_type": "code",
   "execution_count": 5,
   "id": "769d6cf2",
   "metadata": {},
   "outputs": [],
   "source": [
    "pdf = norm.pdf(df[\"difference\"].sort_values(), df_mean, df_std)"
   ]
  },
  {
   "cell_type": "code",
   "execution_count": 6,
   "id": "bc7b2b3b",
   "metadata": {},
   "outputs": [
    {
     "data": {
      "image/png": "[encoded data removed]",
      "text/plain": [
       "<Figure size 864x576 with 1 Axes>"
      ]
     },
     "metadata": {
      "needs_background": "light"
     },
     "output_type": "display_data"
    },
    {
     "data": {
      "text/plain": [
       "44919.201755626666"
      ]
     },
     "execution_count": 6,
     "metadata": {},
     "output_type": "execute_result"
    }
   ],
   "source": [
    "plt.figure(figsize=(12, 8))\n",
    "plt.plot(df[\"difference\"].sort_values(), pdf)\n",
    "plt.ylabel(\"Frequency\", size=12)                \n",
    "plt.grid(True, alpha=0.3, linestyle=\"--\")\n",
    "\n",
    "\n",
    "\n",
    "plt.show()\n",
    "standard_error = df['difference'].sem()\n",
    "standard_error"
   ]
  },
  {
   "cell_type": "markdown",
   "id": "61f137d5",
   "metadata": {},
   "source": [
    "**Standard Error of mean** is 44919.20175562711 seconds which is 0.52 days"
   ]
  },
  {
   "cell_type": "code",
   "execution_count": 7,
   "id": "fb8e110f",
   "metadata": {},
   "outputs": [],
   "source": [
    "predicted_time = 55085.159701358425\n",
    "error = 0"
   ]
  },
  {
   "cell_type": "code",
   "execution_count": 8,
   "id": "b09780de",
   "metadata": {},
   "outputs": [
    {
     "data": {
      "text/plain": [
       "2508936.2862384897"
      ]
     },
     "execution_count": 8,
     "metadata": {},
     "output_type": "execute_result"
    }
   ],
   "source": [
    "for index, row in df.iterrows():\n",
    "    error += (row[\"difference\"] - predicted_time) ** 2\n",
    "error /= len(df['difference'])\n",
    "error= error ** 0.5\n",
    "error"
   ]
  },
  {
   "cell_type": "code",
   "execution_count": 9,
   "id": "3691308c",
   "metadata": {},
   "outputs": [
    {
     "data": {
      "text/html": [
       "<div>\n",
       "<style scoped>\n",
       "    .dataframe tbody tr th:only-of-type {\n",
       "        vertical-align: middle;\n",
       "    }\n",
       "\n",
       "    .dataframe tbody tr th {\n",
       "        vertical-align: top;\n",
       "    }\n",
       "\n",
       "    .dataframe thead th {\n",
       "        text-align: right;\n",
       "    }\n",
       "</style>\n",
       "<table border=\"1\" class=\"dataframe\">\n",
       "  <thead>\n",
       "    <tr style=\"text-align: right;\">\n",
       "      <th></th>\n",
       "      <th>Unnamed: 0</th>\n",
       "      <th>username</th>\n",
       "      <th>hashtag</th>\n",
       "      <th>first tweet</th>\n",
       "      <th>last tweet</th>\n",
       "      <th>difference</th>\n",
       "      <th>Diff in seconds</th>\n",
       "    </tr>\n",
       "  </thead>\n",
       "  <tbody>\n",
       "    <tr>\n",
       "      <th>2</th>\n",
       "      <td>2</td>\n",
       "      <td>Trollers_D</td>\n",
       "      <td>ChillaChillaFromToday</td>\n",
       "      <td>2022-12-09 07:43:09+00:00</td>\n",
       "      <td>2022-12-09 07:43:09+00:00</td>\n",
       "      <td>0.0</td>\n",
       "      <td>0.0</td>\n",
       "    </tr>\n",
       "    <tr>\n",
       "      <th>4</th>\n",
       "      <td>4</td>\n",
       "      <td>Trollers_D</td>\n",
       "      <td>NogutsNoGlory</td>\n",
       "      <td>2022-11-20 09:43:24+00:00</td>\n",
       "      <td>2022-11-20 09:43:24+00:00</td>\n",
       "      <td>0.0</td>\n",
       "      <td>0.0</td>\n",
       "    </tr>\n",
       "    <tr>\n",
       "      <th>5</th>\n",
       "      <td>5</td>\n",
       "      <td>Trollers_D</td>\n",
       "      <td>பனையூர்_பிரியாணி</td>\n",
       "      <td>2022-11-20 09:15:18+00:00</td>\n",
       "      <td>2022-11-20 09:10:21+00:00</td>\n",
       "      <td>297.0</td>\n",
       "      <td>297.0</td>\n",
       "    </tr>\n",
       "    <tr>\n",
       "      <th>6</th>\n",
       "      <td>6</td>\n",
       "      <td>BeautyS1244</td>\n",
       "      <td>भारतजोड़ो_के_संग_राजस्थान</td>\n",
       "      <td>2022-12-05 11:45:06+00:00</td>\n",
       "      <td>2022-12-05 11:45:06+00:00</td>\n",
       "      <td>0.0</td>\n",
       "      <td>0.0</td>\n",
       "    </tr>\n",
       "    <tr>\n",
       "      <th>7</th>\n",
       "      <td>7</td>\n",
       "      <td>BeautyS1244</td>\n",
       "      <td>DumLagaKeIndia</td>\n",
       "      <td>2022-11-16 12:43:29+00:00</td>\n",
       "      <td>2022-11-16 12:43:29+00:00</td>\n",
       "      <td>0.0</td>\n",
       "      <td>0.0</td>\n",
       "    </tr>\n",
       "    <tr>\n",
       "      <th>...</th>\n",
       "      <td>...</td>\n",
       "      <td>...</td>\n",
       "      <td>...</td>\n",
       "      <td>...</td>\n",
       "      <td>...</td>\n",
       "      <td>...</td>\n",
       "      <td>...</td>\n",
       "    </tr>\n",
       "    <tr>\n",
       "      <th>2943</th>\n",
       "      <td>2943</td>\n",
       "      <td>MonuTweets_</td>\n",
       "      <td>InvestigateHNGinsolvency</td>\n",
       "      <td>2022-12-06 09:31:00+00:00</td>\n",
       "      <td>2022-12-06 09:31:00+00:00</td>\n",
       "      <td>0.0</td>\n",
       "      <td>0.0</td>\n",
       "    </tr>\n",
       "    <tr>\n",
       "      <th>2944</th>\n",
       "      <td>2944</td>\n",
       "      <td>MonuTweets_</td>\n",
       "      <td>BharatJudneTak</td>\n",
       "      <td>2022-12-06 08:54:51+00:00</td>\n",
       "      <td>2022-12-06 08:54:51+00:00</td>\n",
       "      <td>0.0</td>\n",
       "      <td>0.0</td>\n",
       "    </tr>\n",
       "    <tr>\n",
       "      <th>2945</th>\n",
       "      <td>2945</td>\n",
       "      <td>MonuTweets_</td>\n",
       "      <td>KyaaBaatHai</td>\n",
       "      <td>2022-12-06 08:03:12+00:00</td>\n",
       "      <td>2022-12-06 08:03:12+00:00</td>\n",
       "      <td>0.0</td>\n",
       "      <td>0.0</td>\n",
       "    </tr>\n",
       "    <tr>\n",
       "      <th>2946</th>\n",
       "      <td>2946</td>\n",
       "      <td>MonuTweets_</td>\n",
       "      <td>BakasuranTrailer</td>\n",
       "      <td>2022-12-05 14:51:57+00:00</td>\n",
       "      <td>2022-12-05 14:51:57+00:00</td>\n",
       "      <td>0.0</td>\n",
       "      <td>0.0</td>\n",
       "    </tr>\n",
       "    <tr>\n",
       "      <th>2947</th>\n",
       "      <td>2947</td>\n",
       "      <td>MonuTweets_</td>\n",
       "      <td>MahindraVolunteeringDay</td>\n",
       "      <td>2022-12-05 10:35:30+00:00</td>\n",
       "      <td>2022-12-05 10:35:30+00:00</td>\n",
       "      <td>0.0</td>\n",
       "      <td>0.0</td>\n",
       "    </tr>\n",
       "  </tbody>\n",
       "</table>\n",
       "<p>2372 rows × 7 columns</p>\n",
       "</div>"
      ],
      "text/plain": [
       "      Unnamed: 0     username                    hashtag  \\\n",
       "2              2   Trollers_D      ChillaChillaFromToday   \n",
       "4              4   Trollers_D              NogutsNoGlory   \n",
       "5              5   Trollers_D           பனையூர்_பிரியாணி   \n",
       "6              6  BeautyS1244  भारतजोड़ो_के_संग_राजस्थान   \n",
       "7              7  BeautyS1244             DumLagaKeIndia   \n",
       "...          ...          ...                        ...   \n",
       "2943        2943  MonuTweets_   InvestigateHNGinsolvency   \n",
       "2944        2944  MonuTweets_             BharatJudneTak   \n",
       "2945        2945  MonuTweets_                KyaaBaatHai   \n",
       "2946        2946  MonuTweets_           BakasuranTrailer   \n",
       "2947        2947  MonuTweets_    MahindraVolunteeringDay   \n",
       "\n",
       "                    first tweet                 last tweet  difference  \\\n",
       "2     2022-12-09 07:43:09+00:00  2022-12-09 07:43:09+00:00         0.0   \n",
       "4     2022-11-20 09:43:24+00:00  2022-11-20 09:43:24+00:00         0.0   \n",
       "5     2022-11-20 09:15:18+00:00  2022-11-20 09:10:21+00:00       297.0   \n",
       "6     2022-12-05 11:45:06+00:00  2022-12-05 11:45:06+00:00         0.0   \n",
       "7     2022-11-16 12:43:29+00:00  2022-11-16 12:43:29+00:00         0.0   \n",
       "...                         ...                        ...         ...   \n",
       "2943  2022-12-06 09:31:00+00:00  2022-12-06 09:31:00+00:00         0.0   \n",
       "2944  2022-12-06 08:54:51+00:00  2022-12-06 08:54:51+00:00         0.0   \n",
       "2945  2022-12-06 08:03:12+00:00  2022-12-06 08:03:12+00:00         0.0   \n",
       "2946  2022-12-05 14:51:57+00:00  2022-12-05 14:51:57+00:00         0.0   \n",
       "2947  2022-12-05 10:35:30+00:00  2022-12-05 10:35:30+00:00         0.0   \n",
       "\n",
       "      Diff in seconds  \n",
       "2                 0.0  \n",
       "4                 0.0  \n",
       "5               297.0  \n",
       "6                 0.0  \n",
       "7                 0.0  \n",
       "...               ...  \n",
       "2943              0.0  \n",
       "2944              0.0  \n",
       "2945              0.0  \n",
       "2946              0.0  \n",
       "2947              0.0  \n",
       "\n",
       "[2372 rows x 7 columns]"
      ]
     },
     "execution_count": 9,
     "metadata": {},
     "output_type": "execute_result"
    }
   ],
   "source": [
    "new_df = df[~((df['difference'] < (q1 - 1.5 * IQR)) |(df['difference'] > (q3 + 1.5 * IQR)))]\n",
    "new_df"
   ]
  },
  {
   "cell_type": "code",
   "execution_count": 10,
   "id": "6e9fef7d",
   "metadata": {},
   "outputs": [
    {
     "data": {
      "text/plain": [
       "51013.21222135685"
      ]
     },
     "execution_count": 10,
     "metadata": {},
     "output_type": "execute_result"
    }
   ],
   "source": [
    "for index, row in new_df.iterrows():\n",
    "    error += (row[\"difference\"] - predicted_time) ** 2\n",
    "error /= len(df['difference'])\n",
    "error= error ** 0.5\n",
    "error"
   ]
  },
  {
   "cell_type": "code",
   "execution_count": null,
   "id": "cf5b3947",
   "metadata": {},
   "outputs": [],
   "source": []
  }
 ],
 "metadata": {
  "kernelspec": {
   "display_name": "Python 3 (ipykernel)",
   "language": "python",
   "name": "python3"
  },
  "language_info": {
   "codemirror_mode": {
    "name": "ipython",
    "version": 3
   },
   "file_extension": ".py",
   "mimetype": "text/x-python",
   "name": "python",
   "nbconvert_exporter": "python",
   "pygments_lexer": "ipython3",
   "version": "3.9.12"
  }
 },
 "nbformat": 4,
 "nbformat_minor": 5
}
