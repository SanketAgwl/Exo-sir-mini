{
 "cells": [
  {
   "cell_type": "code",
   "execution_count": 1,
   "id": "0eb95f8c",
   "metadata": {},
   "outputs": [],
   "source": [
    "import pandas as pd\n",
    "import numpy as np\n",
    "import seaborn as sns\n",
    "from datetime import datetime, timedelta\n",
    "import matplotlib.pyplot as plt\n",
    "from scipy.stats import norm\n",
    "import statistics"
   ]
  },
  {
   "cell_type": "code",
   "execution_count": 2,
   "id": "f9bd2645",
   "metadata": {},
   "outputs": [
    {
     "data": {
      "text/html": [
       "<div>\n",
       "<style scoped>\n",
       "    .dataframe tbody tr th:only-of-type {\n",
       "        vertical-align: middle;\n",
       "    }\n",
       "\n",
       "    .dataframe tbody tr th {\n",
       "        vertical-align: top;\n",
       "    }\n",
       "\n",
       "    .dataframe thead th {\n",
       "        text-align: right;\n",
       "    }\n",
       "</style>\n",
       "<table border=\"1\" class=\"dataframe\">\n",
       "  <thead>\n",
       "    <tr style=\"text-align: right;\">\n",
       "      <th></th>\n",
       "      <th>Unnamed: 0</th>\n",
       "      <th>username</th>\n",
       "      <th>hashtag</th>\n",
       "      <th>difference</th>\n",
       "      <th>times of all tweets</th>\n",
       "    </tr>\n",
       "  </thead>\n",
       "  <tbody>\n",
       "    <tr>\n",
       "      <th>0</th>\n",
       "      <td>0</td>\n",
       "      <td>imsurya95</td>\n",
       "      <td>BoycottbollywoodCompletely</td>\n",
       "      <td>0 days 00:00:00</td>\n",
       "      <td>[datetime.datetime(2022, 9, 6, 7, 19, 36, tzin...</td>\n",
       "    </tr>\n",
       "    <tr>\n",
       "      <th>1</th>\n",
       "      <td>1</td>\n",
       "      <td>aravindarajm005</td>\n",
       "      <td>2point0</td>\n",
       "      <td>1 days 02:48:57</td>\n",
       "      <td>[datetime.datetime(2022, 12, 28, 16, 2, 30, tz...</td>\n",
       "    </tr>\n",
       "    <tr>\n",
       "      <th>2</th>\n",
       "      <td>2</td>\n",
       "      <td>aravindarajm005</td>\n",
       "      <td>Kabali</td>\n",
       "      <td>0 days 00:00:00</td>\n",
       "      <td>[datetime.datetime(2022, 12, 28, 16, 2, 30, tz...</td>\n",
       "    </tr>\n",
       "    <tr>\n",
       "      <th>3</th>\n",
       "      <td>3</td>\n",
       "      <td>aravindarajm005</td>\n",
       "      <td>Jailer</td>\n",
       "      <td>0 days 07:59:26</td>\n",
       "      <td>[datetime.datetime(2022, 12, 27, 13, 28, 40, t...</td>\n",
       "    </tr>\n",
       "    <tr>\n",
       "      <th>4</th>\n",
       "      <td>4</td>\n",
       "      <td>aravindarajm005</td>\n",
       "      <td>Rajinikanth</td>\n",
       "      <td>0 days 07:59:26</td>\n",
       "      <td>[datetime.datetime(2022, 12, 27, 13, 28, 40, t...</td>\n",
       "    </tr>\n",
       "    <tr>\n",
       "      <th>...</th>\n",
       "      <td>...</td>\n",
       "      <td>...</td>\n",
       "      <td>...</td>\n",
       "      <td>...</td>\n",
       "      <td>...</td>\n",
       "    </tr>\n",
       "    <tr>\n",
       "      <th>10441</th>\n",
       "      <td>10441</td>\n",
       "      <td>rrahulforever_</td>\n",
       "      <td>RraMaan</td>\n",
       "      <td>0 days 00:00:00</td>\n",
       "      <td>[datetime.datetime(2022, 12, 3, 13, 31, 35, tz...</td>\n",
       "    </tr>\n",
       "    <tr>\n",
       "      <th>10442</th>\n",
       "      <td>10442</td>\n",
       "      <td>rrahulforever_</td>\n",
       "      <td>FahmaanKhan</td>\n",
       "      <td>0 days 00:00:00</td>\n",
       "      <td>[datetime.datetime(2022, 11, 28, 19, 42, 56, t...</td>\n",
       "    </tr>\n",
       "    <tr>\n",
       "      <th>10443</th>\n",
       "      <td>10443</td>\n",
       "      <td>naveenlakkamraj</td>\n",
       "      <td>HBDYSJagan</td>\n",
       "      <td>0 days 00:07:25</td>\n",
       "      <td>[datetime.datetime(2022, 12, 20, 12, 21, 50, t...</td>\n",
       "    </tr>\n",
       "    <tr>\n",
       "      <th>10444</th>\n",
       "      <td>10444</td>\n",
       "      <td>naveenlakkamraj</td>\n",
       "      <td>JayahoBC</td>\n",
       "      <td>0 days 00:00:00</td>\n",
       "      <td>[datetime.datetime(2022, 12, 7, 4, 17, 36, tzi...</td>\n",
       "    </tr>\n",
       "    <tr>\n",
       "      <th>10445</th>\n",
       "      <td>10445</td>\n",
       "      <td>naveenlakkamraj</td>\n",
       "      <td>YSRCPWithBCs</td>\n",
       "      <td>0 days 00:00:00</td>\n",
       "      <td>[datetime.datetime(2022, 12, 7, 4, 17, 36, tzi...</td>\n",
       "    </tr>\n",
       "  </tbody>\n",
       "</table>\n",
       "<p>10446 rows × 5 columns</p>\n",
       "</div>"
      ],
      "text/plain": [
       "       Unnamed: 0         username                     hashtag  \\\n",
       "0               0        imsurya95  BoycottbollywoodCompletely   \n",
       "1               1  aravindarajm005                     2point0   \n",
       "2               2  aravindarajm005                      Kabali   \n",
       "3               3  aravindarajm005                      Jailer   \n",
       "4               4  aravindarajm005                 Rajinikanth   \n",
       "...           ...              ...                         ...   \n",
       "10441       10441   rrahulforever_                     RraMaan   \n",
       "10442       10442   rrahulforever_                 FahmaanKhan   \n",
       "10443       10443  naveenlakkamraj                  HBDYSJagan   \n",
       "10444       10444  naveenlakkamraj                    JayahoBC   \n",
       "10445       10445  naveenlakkamraj                YSRCPWithBCs   \n",
       "\n",
       "            difference                                times of all tweets  \n",
       "0      0 days 00:00:00  [datetime.datetime(2022, 9, 6, 7, 19, 36, tzin...  \n",
       "1      1 days 02:48:57  [datetime.datetime(2022, 12, 28, 16, 2, 30, tz...  \n",
       "2      0 days 00:00:00  [datetime.datetime(2022, 12, 28, 16, 2, 30, tz...  \n",
       "3      0 days 07:59:26  [datetime.datetime(2022, 12, 27, 13, 28, 40, t...  \n",
       "4      0 days 07:59:26  [datetime.datetime(2022, 12, 27, 13, 28, 40, t...  \n",
       "...                ...                                                ...  \n",
       "10441  0 days 00:00:00  [datetime.datetime(2022, 12, 3, 13, 31, 35, tz...  \n",
       "10442  0 days 00:00:00  [datetime.datetime(2022, 11, 28, 19, 42, 56, t...  \n",
       "10443  0 days 00:07:25  [datetime.datetime(2022, 12, 20, 12, 21, 50, t...  \n",
       "10444  0 days 00:00:00  [datetime.datetime(2022, 12, 7, 4, 17, 36, tzi...  \n",
       "10445  0 days 00:00:00  [datetime.datetime(2022, 12, 7, 4, 17, 36, tzi...  \n",
       "\n",
       "[10446 rows x 5 columns]"
      ]
     },
     "execution_count": 2,
     "metadata": {},
     "output_type": "execute_result"
    }
   ],
   "source": [
    "df= pd.read_csv('scraped_tweets.csv')\n",
    "df"
   ]
  },
  {
   "cell_type": "code",
   "execution_count": 3,
   "id": "3f6d8dd7",
   "metadata": {},
   "outputs": [
    {
     "name": "stdout",
     "output_type": "stream",
     "text": [
      "<class 'pandas.core.frame.DataFrame'>\n",
      "RangeIndex: 10446 entries, 0 to 10445\n",
      "Data columns (total 5 columns):\n",
      " #   Column               Non-Null Count  Dtype  \n",
      "---  ------               --------------  -----  \n",
      " 0   Unnamed: 0           10446 non-null  int64  \n",
      " 1   username             10446 non-null  object \n",
      " 2   hashtag              10446 non-null  object \n",
      " 3   difference           10446 non-null  float64\n",
      " 4   times of all tweets  10446 non-null  object \n",
      "dtypes: float64(1), int64(1), object(3)\n",
      "memory usage: 408.2+ KB\n"
     ]
    }
   ],
   "source": [
    "df['difference'] = df['difference'].apply(lambda x: pd.to_timedelta(x).total_seconds())\n",
    "df.info()"
   ]
  },
  {
   "cell_type": "code",
   "execution_count": 4,
   "id": "21f61084",
   "metadata": {},
   "outputs": [
    {
     "data": {
      "text/plain": [
       "(567351.2376029103, 2093720.1664032387, 422.0, 0.0, 172526.0)"
      ]
     },
     "execution_count": 4,
     "metadata": {},
     "output_type": "execute_result"
    }
   ],
   "source": [
    "s= df[\"difference\"]\n",
    "df_mean = np.mean(df[\"difference\"])\n",
    "df_std = np.std(df[\"difference\"])\n",
    "median, q1, q3 = np.percentile(s, 50), np.percentile(s, 25), np.percentile(s, 75)\n",
    "IQR = q3 - q1\n",
    "df_mean, df_std, median,q1,q3"
   ]
  },
  {
   "cell_type": "code",
   "execution_count": 5,
   "id": "769d6cf2",
   "metadata": {},
   "outputs": [],
   "source": [
    "pdf = norm.pdf(df[\"difference\"].sort_values(), df_mean, df_std)"
   ]
  },
  {
   "cell_type": "code",
   "execution_count": 10,
   "id": "bc7b2b3b",
   "metadata": {},
   "outputs": [
    {
     "data": {
      "image/png": "[encoded data removed]",
      "text/plain": [
       "<Figure size 864x576 with 1 Axes>"
      ]
     },
     "metadata": {
      "needs_background": "light"
     },
     "output_type": "display_data"
    },
    {
     "data": {
      "text/plain": [
       "915.1719816106004"
      ]
     },
     "execution_count": 10,
     "metadata": {},
     "output_type": "execute_result"
    }
   ],
   "source": [
    "plt.figure(figsize=(12, 8))\n",
    "plt.plot(df[\"difference\"].sort_values(), pdf)\n",
    "plt.ylabel(\"Frequency\", size=12)                \n",
    "plt.grid(True, alpha=0.3, linestyle=\"--\")\n",
    "\n",
    "\n",
    "\n",
    "plt.show()\n",
    "standard_error = df['difference'].sem()\n",
    "standard_error"
   ]
  },
  {
   "cell_type": "markdown",
   "id": "960aecbb",
   "metadata": {},
   "source": [
    "after removing outliers"
   ]
  },
  {
   "cell_type": "code",
   "execution_count": 11,
   "id": "3691308c",
   "metadata": {},
   "outputs": [
    {
     "data": {
      "text/plain": [
       "(1745.9336667156936, 4600.738139762344, 0.0, 0.0, 226.5, 27165.0)"
      ]
     },
     "execution_count": 11,
     "metadata": {},
     "output_type": "execute_result"
    }
   ],
   "source": [
    "df = df[~((df['difference'] < (q1 - 1.5 * IQR)) |(df['difference'] > (q3 + 1.5 * IQR)))]\n",
    "\n",
    "s= df[\"difference\"]\n",
    "df_mean = np.mean(df[\"difference\"])\n",
    "df_std = np.std(df[\"difference\"])\n",
    "median, q1, q3 = np.percentile(s, 50), np.percentile(s, 25), np.percentile(s, 75)\n",
    "IQR = q3 - q1\n",
    "df_mean, df_std, median,q1,q3, df['difference'].max()"
   ]
  },
  {
   "cell_type": "code",
   "execution_count": 8,
   "id": "b7465052",
   "metadata": {},
   "outputs": [],
   "source": [
    "pdf = norm.pdf(df[\"difference\"].sort_values(), df_mean, df_std)"
   ]
  },
  {
   "cell_type": "code",
   "execution_count": 9,
   "id": "cf5b3947",
   "metadata": {},
   "outputs": [
    {
     "data": {
      "image/png": "[encoded data removed]",
      "text/plain": [
       "<Figure size 864x576 with 1 Axes>"
      ]
     },
     "metadata": {
      "needs_background": "light"
     },
     "output_type": "display_data"
    },
    {
     "data": {
      "text/plain": [
       "915.1719816106004"
      ]
     },
     "execution_count": 9,
     "metadata": {},
     "output_type": "execute_result"
    }
   ],
   "source": [
    "plt.figure(figsize=(12, 8))\n",
    "plt.plot(df[\"difference\"].sort_values(), pdf)\n",
    "plt.ylabel(\"Frequency\", size=12)                \n",
    "plt.grid(True, alpha=0.3, linestyle=\"--\")\n",
    "\n",
    "\n",
    "\n",
    "plt.show()\n",
    "standard_error = df['difference'].sem()\n",
    "standard_error"
   ]
  }
 ],
 "metadata": {
  "kernelspec": {
   "display_name": "Python 3 (ipykernel)",
   "language": "python",
   "name": "python3"
  },
  "language_info": {
   "codemirror_mode": {
    "name": "ipython",
    "version": 3
   },
   "file_extension": ".py",
   "mimetype": "text/x-python",
   "name": "python",
   "nbconvert_exporter": "python",
   "pygments_lexer": "ipython3",
   "version": "3.9.2"
  }
 },
 "nbformat": 4,
 "nbformat_minor": 5
}
