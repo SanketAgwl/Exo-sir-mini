{
 "cells": [
  {
   "cell_type": "markdown",
   "id": "8f53f4ad",
   "metadata": {},
   "source": [
    "# Mini Project Result"
   ]
  },
  {
   "cell_type": "markdown",
   "id": "676a823a",
   "metadata": {},
   "source": [
    "We have generated a dataset of 10446 rows.\n",
    "Our method to find the average time period between infected to recovered state is as follows:-\n",
    "- First of all we find the time difference between the first tweet and the last tweet of a particular hashtag of a particular user.\n",
    "- Then we add these differences for that user and find the avg time period between the first tweet and the last tweet for that user (average time period between infected to recovered state) by dividing the sum of differences by the no. of hashtags.\n",
    "- Then we do the first two steps for n users and find the final average time period between the first and the last tweet by dividing the avg difference for each user by n."
   ]
  },
  {
   "cell_type": "code",
   "execution_count": 1,
   "id": "0eb95f8c",
   "metadata": {},
   "outputs": [],
   "source": [
    "import pandas as pd\n",
    "import numpy as np\n",
    "import seaborn as sns\n",
    "from datetime import datetime, timedelta\n",
    "import matplotlib.pyplot as plt\n",
    "from scipy.stats import norm\n",
    "import statistics"
   ]
  },
  {
   "cell_type": "code",
   "execution_count": 2,
   "id": "f9bd2645",
   "metadata": {},
   "outputs": [
    {
     "data": {
      "text/html": [
       "<div>\n",
       "<style scoped>\n",
       "    .dataframe tbody tr th:only-of-type {\n",
       "        vertical-align: middle;\n",
       "    }\n",
       "\n",
       "    .dataframe tbody tr th {\n",
       "        vertical-align: top;\n",
       "    }\n",
       "\n",
       "    .dataframe thead th {\n",
       "        text-align: right;\n",
       "    }\n",
       "</style>\n",
       "<table border=\"1\" class=\"dataframe\">\n",
       "  <thead>\n",
       "    <tr style=\"text-align: right;\">\n",
       "      <th></th>\n",
       "      <th>Unnamed: 0</th>\n",
       "      <th>username</th>\n",
       "      <th>hashtag</th>\n",
       "      <th>difference</th>\n",
       "      <th>times of all tweets</th>\n",
       "    </tr>\n",
       "  </thead>\n",
       "  <tbody>\n",
       "    <tr>\n",
       "      <th>0</th>\n",
       "      <td>0</td>\n",
       "      <td>imsurya95</td>\n",
       "      <td>BoycottbollywoodCompletely</td>\n",
       "      <td>0 days 00:00:00</td>\n",
       "      <td>[datetime.datetime(2022, 9, 6, 7, 19, 36, tzin...</td>\n",
       "    </tr>\n",
       "    <tr>\n",
       "      <th>1</th>\n",
       "      <td>1</td>\n",
       "      <td>aravindarajm005</td>\n",
       "      <td>2point0</td>\n",
       "      <td>1 days 02:48:57</td>\n",
       "      <td>[datetime.datetime(2022, 12, 28, 16, 2, 30, tz...</td>\n",
       "    </tr>\n",
       "    <tr>\n",
       "      <th>2</th>\n",
       "      <td>2</td>\n",
       "      <td>aravindarajm005</td>\n",
       "      <td>Kabali</td>\n",
       "      <td>0 days 00:00:00</td>\n",
       "      <td>[datetime.datetime(2022, 12, 28, 16, 2, 30, tz...</td>\n",
       "    </tr>\n",
       "    <tr>\n",
       "      <th>3</th>\n",
       "      <td>3</td>\n",
       "      <td>aravindarajm005</td>\n",
       "      <td>Jailer</td>\n",
       "      <td>0 days 07:59:26</td>\n",
       "      <td>[datetime.datetime(2022, 12, 27, 13, 28, 40, t...</td>\n",
       "    </tr>\n",
       "    <tr>\n",
       "      <th>4</th>\n",
       "      <td>4</td>\n",
       "      <td>aravindarajm005</td>\n",
       "      <td>Rajinikanth</td>\n",
       "      <td>0 days 07:59:26</td>\n",
       "      <td>[datetime.datetime(2022, 12, 27, 13, 28, 40, t...</td>\n",
       "    </tr>\n",
       "    <tr>\n",
       "      <th>...</th>\n",
       "      <td>...</td>\n",
       "      <td>...</td>\n",
       "      <td>...</td>\n",
       "      <td>...</td>\n",
       "      <td>...</td>\n",
       "    </tr>\n",
       "    <tr>\n",
       "      <th>10441</th>\n",
       "      <td>10441</td>\n",
       "      <td>rrahulforever_</td>\n",
       "      <td>RraMaan</td>\n",
       "      <td>0 days 00:00:00</td>\n",
       "      <td>[datetime.datetime(2022, 12, 3, 13, 31, 35, tz...</td>\n",
       "    </tr>\n",
       "    <tr>\n",
       "      <th>10442</th>\n",
       "      <td>10442</td>\n",
       "      <td>rrahulforever_</td>\n",
       "      <td>FahmaanKhan</td>\n",
       "      <td>0 days 00:00:00</td>\n",
       "      <td>[datetime.datetime(2022, 11, 28, 19, 42, 56, t...</td>\n",
       "    </tr>\n",
       "    <tr>\n",
       "      <th>10443</th>\n",
       "      <td>10443</td>\n",
       "      <td>naveenlakkamraj</td>\n",
       "      <td>HBDYSJagan</td>\n",
       "      <td>0 days 00:07:25</td>\n",
       "      <td>[datetime.datetime(2022, 12, 20, 12, 21, 50, t...</td>\n",
       "    </tr>\n",
       "    <tr>\n",
       "      <th>10444</th>\n",
       "      <td>10444</td>\n",
       "      <td>naveenlakkamraj</td>\n",
       "      <td>JayahoBC</td>\n",
       "      <td>0 days 00:00:00</td>\n",
       "      <td>[datetime.datetime(2022, 12, 7, 4, 17, 36, tzi...</td>\n",
       "    </tr>\n",
       "    <tr>\n",
       "      <th>10445</th>\n",
       "      <td>10445</td>\n",
       "      <td>naveenlakkamraj</td>\n",
       "      <td>YSRCPWithBCs</td>\n",
       "      <td>0 days 00:00:00</td>\n",
       "      <td>[datetime.datetime(2022, 12, 7, 4, 17, 36, tzi...</td>\n",
       "    </tr>\n",
       "  </tbody>\n",
       "</table>\n",
       "<p>10446 rows × 5 columns</p>\n",
       "</div>"
      ],
      "text/plain": [
       "       Unnamed: 0         username                     hashtag  \\\n",
       "0               0        imsurya95  BoycottbollywoodCompletely   \n",
       "1               1  aravindarajm005                     2point0   \n",
       "2               2  aravindarajm005                      Kabali   \n",
       "3               3  aravindarajm005                      Jailer   \n",
       "4               4  aravindarajm005                 Rajinikanth   \n",
       "...           ...              ...                         ...   \n",
       "10441       10441   rrahulforever_                     RraMaan   \n",
       "10442       10442   rrahulforever_                 FahmaanKhan   \n",
       "10443       10443  naveenlakkamraj                  HBDYSJagan   \n",
       "10444       10444  naveenlakkamraj                    JayahoBC   \n",
       "10445       10445  naveenlakkamraj                YSRCPWithBCs   \n",
       "\n",
       "            difference                                times of all tweets  \n",
       "0      0 days 00:00:00  [datetime.datetime(2022, 9, 6, 7, 19, 36, tzin...  \n",
       "1      1 days 02:48:57  [datetime.datetime(2022, 12, 28, 16, 2, 30, tz...  \n",
       "2      0 days 00:00:00  [datetime.datetime(2022, 12, 28, 16, 2, 30, tz...  \n",
       "3      0 days 07:59:26  [datetime.datetime(2022, 12, 27, 13, 28, 40, t...  \n",
       "4      0 days 07:59:26  [datetime.datetime(2022, 12, 27, 13, 28, 40, t...  \n",
       "...                ...                                                ...  \n",
       "10441  0 days 00:00:00  [datetime.datetime(2022, 12, 3, 13, 31, 35, tz...  \n",
       "10442  0 days 00:00:00  [datetime.datetime(2022, 11, 28, 19, 42, 56, t...  \n",
       "10443  0 days 00:07:25  [datetime.datetime(2022, 12, 20, 12, 21, 50, t...  \n",
       "10444  0 days 00:00:00  [datetime.datetime(2022, 12, 7, 4, 17, 36, tzi...  \n",
       "10445  0 days 00:00:00  [datetime.datetime(2022, 12, 7, 4, 17, 36, tzi...  \n",
       "\n",
       "[10446 rows x 5 columns]"
      ]
     },
     "execution_count": 2,
     "metadata": {},
     "output_type": "execute_result"
    }
   ],
   "source": [
    "df= pd.read_csv('scraped_tweets.csv')\n",
    "df"
   ]
  },
  {
   "cell_type": "code",
   "execution_count": 3,
   "id": "3f6d8dd7",
   "metadata": {},
   "outputs": [
    {
     "name": "stdout",
     "output_type": "stream",
     "text": [
      "<class 'pandas.core.frame.DataFrame'>\n",
      "RangeIndex: 10446 entries, 0 to 10445\n",
      "Data columns (total 5 columns):\n",
      " #   Column               Non-Null Count  Dtype  \n",
      "---  ------               --------------  -----  \n",
      " 0   Unnamed: 0           10446 non-null  int64  \n",
      " 1   username             10446 non-null  object \n",
      " 2   hashtag              10446 non-null  object \n",
      " 3   difference           10446 non-null  float64\n",
      " 4   times of all tweets  10446 non-null  object \n",
      "dtypes: float64(1), int64(1), object(3)\n",
      "memory usage: 408.2+ KB\n"
     ]
    }
   ],
   "source": [
    "df['difference'] = df['difference'].apply(lambda x: pd.to_timedelta(x).total_seconds())\n",
    "df.info()"
   ]
  },
  {
   "cell_type": "code",
   "execution_count": 4,
   "id": "04d894a4",
   "metadata": {},
   "outputs": [
    {
     "data": {
      "text/plain": [
       "<AxesSubplot: xlabel='difference'>"
      ]
     },
     "execution_count": 4,
     "metadata": {},
     "output_type": "execute_result"
    },
    {
     "data": {
      "image/png": "[encoded data removed]",
      "text/plain": [
       "<Figure size 432x288 with 1 Axes>"
      ]
     },
     "metadata": {
      "needs_background": "light"
     },
     "output_type": "display_data"
    }
   ],
   "source": [
    "sns.violinplot(data=df, x=\"difference\")"
   ]
  },
  {
   "cell_type": "code",
   "execution_count": 5,
   "id": "21f61084",
   "metadata": {},
   "outputs": [
    {
     "data": {
      "text/plain": [
       "(369686.77124012046, 2093720.1664032387, 422.0, 0.0, 172526.0)"
      ]
     },
     "execution_count": 5,
     "metadata": {},
     "output_type": "execute_result"
    }
   ],
   "source": [
    "s= df[\"difference\"]\n",
    "df_mean = df.groupby(['username'])['difference'].mean().mean()\n",
    "df_std = np.std(df[\"difference\"])\n",
    "median, q1, q3 = np.percentile(s, 50), np.percentile(s, 25), np.percentile(s, 75)\n",
    "IQR = q3 - q1\n",
    "df_mean, df_std, median,q1,q3"
   ]
  },
  {
   "cell_type": "markdown",
   "id": "bbbb2b9f",
   "metadata": {},
   "source": [
    "- Our **average time period** is 369686.77 seconds which is **4.28 days**.\n",
    "- **Standard deviation** is 2093720.166 seconds which is **24.23 days**.\n",
    "- **Median** of the dataset is 422 seconds which is **7.03 minutes**.\n",
    "- **1st Quartile** is **0 days** and **3rd quartile** is 172526 seconds which is **1.996 days**."
   ]
  },
  {
   "cell_type": "code",
   "execution_count": 6,
   "id": "bc7b2b3b",
   "metadata": {},
   "outputs": [
    {
     "data": {
      "text/plain": [
       "2103231.399366359"
      ]
     },
     "execution_count": 6,
     "metadata": {},
     "output_type": "execute_result"
    }
   ],
   "source": [
    "se = 0\n",
    "for index, row in df.iterrows():\n",
    "    se += (row[\"difference\"] - df_mean) ** 2\n",
    "error = se/ (len(df) - 2)\n",
    "error** 0.5"
   ]
  },
  {
   "cell_type": "markdown",
   "id": "f2ee5c8a",
   "metadata": {},
   "source": [
    "**Standard error with mean including outliers** is 2103231.399 which is **24.34 hours**. "
   ]
  },
  {
   "cell_type": "markdown",
   "id": "c86f5562",
   "metadata": {},
   "source": [
    "### After Removing Outliers"
   ]
  },
  {
   "cell_type": "code",
   "execution_count": 7,
   "id": "5818b4ab",
   "metadata": {},
   "outputs": [
    {
     "data": {
      "text/html": [
       "<div>\n",
       "<style scoped>\n",
       "    .dataframe tbody tr th:only-of-type {\n",
       "        vertical-align: middle;\n",
       "    }\n",
       "\n",
       "    .dataframe tbody tr th {\n",
       "        vertical-align: top;\n",
       "    }\n",
       "\n",
       "    .dataframe thead th {\n",
       "        text-align: right;\n",
       "    }\n",
       "</style>\n",
       "<table border=\"1\" class=\"dataframe\">\n",
       "  <thead>\n",
       "    <tr style=\"text-align: right;\">\n",
       "      <th></th>\n",
       "      <th>Unnamed: 0</th>\n",
       "      <th>username</th>\n",
       "      <th>hashtag</th>\n",
       "      <th>difference</th>\n",
       "      <th>times of all tweets</th>\n",
       "    </tr>\n",
       "  </thead>\n",
       "  <tbody>\n",
       "    <tr>\n",
       "      <th>0</th>\n",
       "      <td>0</td>\n",
       "      <td>imsurya95</td>\n",
       "      <td>BoycottbollywoodCompletely</td>\n",
       "      <td>0.0</td>\n",
       "      <td>[datetime.datetime(2022, 9, 6, 7, 19, 36, tzin...</td>\n",
       "    </tr>\n",
       "    <tr>\n",
       "      <th>1</th>\n",
       "      <td>1</td>\n",
       "      <td>aravindarajm005</td>\n",
       "      <td>2point0</td>\n",
       "      <td>96537.0</td>\n",
       "      <td>[datetime.datetime(2022, 12, 28, 16, 2, 30, tz...</td>\n",
       "    </tr>\n",
       "    <tr>\n",
       "      <th>2</th>\n",
       "      <td>2</td>\n",
       "      <td>aravindarajm005</td>\n",
       "      <td>Kabali</td>\n",
       "      <td>0.0</td>\n",
       "      <td>[datetime.datetime(2022, 12, 28, 16, 2, 30, tz...</td>\n",
       "    </tr>\n",
       "    <tr>\n",
       "      <th>3</th>\n",
       "      <td>3</td>\n",
       "      <td>aravindarajm005</td>\n",
       "      <td>Jailer</td>\n",
       "      <td>28766.0</td>\n",
       "      <td>[datetime.datetime(2022, 12, 27, 13, 28, 40, t...</td>\n",
       "    </tr>\n",
       "    <tr>\n",
       "      <th>4</th>\n",
       "      <td>4</td>\n",
       "      <td>aravindarajm005</td>\n",
       "      <td>Rajinikanth</td>\n",
       "      <td>28766.0</td>\n",
       "      <td>[datetime.datetime(2022, 12, 27, 13, 28, 40, t...</td>\n",
       "    </tr>\n",
       "    <tr>\n",
       "      <th>...</th>\n",
       "      <td>...</td>\n",
       "      <td>...</td>\n",
       "      <td>...</td>\n",
       "      <td>...</td>\n",
       "      <td>...</td>\n",
       "    </tr>\n",
       "    <tr>\n",
       "      <th>10441</th>\n",
       "      <td>10441</td>\n",
       "      <td>rrahulforever_</td>\n",
       "      <td>RraMaan</td>\n",
       "      <td>0.0</td>\n",
       "      <td>[datetime.datetime(2022, 12, 3, 13, 31, 35, tz...</td>\n",
       "    </tr>\n",
       "    <tr>\n",
       "      <th>10442</th>\n",
       "      <td>10442</td>\n",
       "      <td>rrahulforever_</td>\n",
       "      <td>FahmaanKhan</td>\n",
       "      <td>0.0</td>\n",
       "      <td>[datetime.datetime(2022, 11, 28, 19, 42, 56, t...</td>\n",
       "    </tr>\n",
       "    <tr>\n",
       "      <th>10443</th>\n",
       "      <td>10443</td>\n",
       "      <td>naveenlakkamraj</td>\n",
       "      <td>HBDYSJagan</td>\n",
       "      <td>445.0</td>\n",
       "      <td>[datetime.datetime(2022, 12, 20, 12, 21, 50, t...</td>\n",
       "    </tr>\n",
       "    <tr>\n",
       "      <th>10444</th>\n",
       "      <td>10444</td>\n",
       "      <td>naveenlakkamraj</td>\n",
       "      <td>JayahoBC</td>\n",
       "      <td>0.0</td>\n",
       "      <td>[datetime.datetime(2022, 12, 7, 4, 17, 36, tzi...</td>\n",
       "    </tr>\n",
       "    <tr>\n",
       "      <th>10445</th>\n",
       "      <td>10445</td>\n",
       "      <td>naveenlakkamraj</td>\n",
       "      <td>YSRCPWithBCs</td>\n",
       "      <td>0.0</td>\n",
       "      <td>[datetime.datetime(2022, 12, 7, 4, 17, 36, tzi...</td>\n",
       "    </tr>\n",
       "  </tbody>\n",
       "</table>\n",
       "<p>8532 rows × 5 columns</p>\n",
       "</div>"
      ],
      "text/plain": [
       "       Unnamed: 0         username                     hashtag  difference  \\\n",
       "0               0        imsurya95  BoycottbollywoodCompletely         0.0   \n",
       "1               1  aravindarajm005                     2point0     96537.0   \n",
       "2               2  aravindarajm005                      Kabali         0.0   \n",
       "3               3  aravindarajm005                      Jailer     28766.0   \n",
       "4               4  aravindarajm005                 Rajinikanth     28766.0   \n",
       "...           ...              ...                         ...         ...   \n",
       "10441       10441   rrahulforever_                     RraMaan         0.0   \n",
       "10442       10442   rrahulforever_                 FahmaanKhan         0.0   \n",
       "10443       10443  naveenlakkamraj                  HBDYSJagan       445.0   \n",
       "10444       10444  naveenlakkamraj                    JayahoBC         0.0   \n",
       "10445       10445  naveenlakkamraj                YSRCPWithBCs         0.0   \n",
       "\n",
       "                                     times of all tweets  \n",
       "0      [datetime.datetime(2022, 9, 6, 7, 19, 36, tzin...  \n",
       "1      [datetime.datetime(2022, 12, 28, 16, 2, 30, tz...  \n",
       "2      [datetime.datetime(2022, 12, 28, 16, 2, 30, tz...  \n",
       "3      [datetime.datetime(2022, 12, 27, 13, 28, 40, t...  \n",
       "4      [datetime.datetime(2022, 12, 27, 13, 28, 40, t...  \n",
       "...                                                  ...  \n",
       "10441  [datetime.datetime(2022, 12, 3, 13, 31, 35, tz...  \n",
       "10442  [datetime.datetime(2022, 11, 28, 19, 42, 56, t...  \n",
       "10443  [datetime.datetime(2022, 12, 20, 12, 21, 50, t...  \n",
       "10444  [datetime.datetime(2022, 12, 7, 4, 17, 36, tzi...  \n",
       "10445  [datetime.datetime(2022, 12, 7, 4, 17, 36, tzi...  \n",
       "\n",
       "[8532 rows x 5 columns]"
      ]
     },
     "execution_count": 7,
     "metadata": {},
     "output_type": "execute_result"
    }
   ],
   "source": [
    "df = df[~((df['difference'] < (q1 - 1.5 * IQR)) |(df['difference'] > (q3 + 1.5 * IQR)))]\n",
    "df"
   ]
  },
  {
   "cell_type": "markdown",
   "id": "2dc07dac",
   "metadata": {},
   "source": [
    "After removing outliers from our dataset we have **8532 rows** out of **10446 rows.** "
   ]
  },
  {
   "cell_type": "code",
   "execution_count": 8,
   "id": "3691308c",
   "metadata": {},
   "outputs": [
    {
     "data": {
      "text/plain": [
       "(31707.611483438668, 84528.40740128017, 0.0, 0.0, 10945.0, 431181.0)"
      ]
     },
     "execution_count": 8,
     "metadata": {},
     "output_type": "execute_result"
    }
   ],
   "source": [
    "\n",
    "s= df[\"difference\"]\n",
    "df_mean = df.groupby(['username'])['difference'].mean().mean()\n",
    "df_std = np.std(df[\"difference\"])\n",
    "median, q1, q3 = np.percentile(s, 50), np.percentile(s, 25), np.percentile(s, 75)\n",
    "IQR = q3 - q1\n",
    "df_mean, df_std, median,q1,q3, df['difference'].max()"
   ]
  },
  {
   "cell_type": "markdown",
   "id": "53253250",
   "metadata": {},
   "source": [
    "- Our **average time period** is 31707.611 seconds which is **0.37 days**.\n",
    "- **Standard deviation** is 84528.407 seconds which is **0.98 days**.\n",
    "- **Median** of the dataset is **0 days**.\n",
    "- **1st Quartile** is **0 days** and **3rd quartile** is 10945 seconds which is **0.127 days**."
   ]
  },
  {
   "cell_type": "code",
   "execution_count": 9,
   "id": "cf5b3947",
   "metadata": {},
   "outputs": [
    {
     "data": {
      "text/plain": [
       "84629.15540140562"
      ]
     },
     "execution_count": 9,
     "metadata": {},
     "output_type": "execute_result"
    }
   ],
   "source": [
    "se = 0\n",
    "for index, row in df.iterrows():\n",
    "    se += (row[\"difference\"] - df_mean) ** 2\n",
    "error = se/ (len(df) - 2)\n",
    "error** 0.5"
   ]
  },
  {
   "cell_type": "markdown",
   "id": "c5bcb5a5",
   "metadata": {},
   "source": [
    "**Standard error** of the dataset without outliers is 84629.15 seconds which is **0.979 day**"
   ]
  },
  {
   "cell_type": "code",
   "execution_count": null,
   "id": "e4ef92f1",
   "metadata": {},
   "outputs": [],
   "source": []
  }
 ],
 "metadata": {
  "kernelspec": {
   "display_name": "Python 3 (ipykernel)",
   "language": "python",
   "name": "python3"
  },
  "language_info": {
   "codemirror_mode": {
    "name": "ipython",
    "version": 3
   },
   "file_extension": ".py",
   "mimetype": "text/x-python",
   "name": "python",
   "nbconvert_exporter": "python",
   "pygments_lexer": "ipython3",
   "version": "3.9.2"
  },
  "vscode": {
   "interpreter": {
    "hash": "aee8b7b246df8f9039afb4144a1f6fd8d2ca17a180786b69acc140d282b71a49"
   }
  }
 },
 "nbformat": 4,
 "nbformat_minor": 5
}
